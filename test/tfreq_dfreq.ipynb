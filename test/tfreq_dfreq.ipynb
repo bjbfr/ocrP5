{
 "cells": [
  {
   "cell_type": "code",
   "execution_count": 11,
   "metadata": {},
   "outputs": [],
   "source": [
    "from sklearn.feature_extraction.text import CountVectorizer,TfidfVectorizer\n",
    "import pandas  as pd\n",
    "import itertools"
   ]
  },
  {
   "cell_type": "code",
   "execution_count": 3,
   "metadata": {},
   "outputs": [],
   "source": [
    "# corpus is a collection of documents\n",
    "# documents are made of terms (optionally grouped within sentences)\n",
    "# the whole set of terms is the vocabulary\n",
    "docs = [\n",
    "    ['a','a','a','b'],\n",
    "    ['b','c','e'],\n",
    "    ['b','d','e'],\n",
    "]\n"
   ]
  },
  {
   "cell_type": "code",
   "execution_count": 17,
   "metadata": {},
   "outputs": [
    {
     "data": {
      "text/plain": [
       "['b', 'a', 'e', 'c', 'd']"
      ]
     },
     "execution_count": 17,
     "metadata": {},
     "output_type": "execute_result"
    }
   ],
   "source": [
    "def BOW_vectorizer(tokens,vectorizer_ctor,**args):\n",
    "    \"\"\"\n",
    "        Generic BOW vectorizer based on sklearn CountVectorizer/TfidfVectorizer vectorizers\n",
    "    \"\"\"\n",
    "    Id = lambda x: x\n",
    "    # skip preprocessing and tokenizing steps\n",
    "    vectorizer = vectorizer_ctor(preprocessor=Id,tokenizer=Id,lowercase=False,**args)\n",
    "    X = vectorizer.fit_transform(tokens)\n",
    "    return (X,vectorizer)\n",
    "\n",
    "def voca(docs):\n",
    "    return list(set(itertools.chain(*docs)))\n"
   ]
  },
  {
   "cell_type": "code",
   "execution_count": 29,
   "metadata": {},
   "outputs": [
    {
     "data": {
      "text/html": [
       "<div>\n",
       "<style scoped>\n",
       "    .dataframe tbody tr th:only-of-type {\n",
       "        vertical-align: middle;\n",
       "    }\n",
       "\n",
       "    .dataframe tbody tr th {\n",
       "        vertical-align: top;\n",
       "    }\n",
       "\n",
       "    .dataframe thead th {\n",
       "        text-align: right;\n",
       "    }\n",
       "</style>\n",
       "<table border=\"1\" class=\"dataframe\">\n",
       "  <thead>\n",
       "    <tr style=\"text-align: right;\">\n",
       "      <th></th>\n",
       "      <th>a</th>\n",
       "      <th>b</th>\n",
       "      <th>c</th>\n",
       "      <th>e</th>\n",
       "      <th>d</th>\n",
       "    </tr>\n",
       "  </thead>\n",
       "  <tbody>\n",
       "    <tr>\n",
       "      <th>0</th>\n",
       "      <td>3</td>\n",
       "      <td>1</td>\n",
       "      <td>0</td>\n",
       "      <td>0</td>\n",
       "      <td>0</td>\n",
       "    </tr>\n",
       "    <tr>\n",
       "      <th>1</th>\n",
       "      <td>0</td>\n",
       "      <td>1</td>\n",
       "      <td>1</td>\n",
       "      <td>0</td>\n",
       "      <td>1</td>\n",
       "    </tr>\n",
       "    <tr>\n",
       "      <th>2</th>\n",
       "      <td>0</td>\n",
       "      <td>1</td>\n",
       "      <td>0</td>\n",
       "      <td>1</td>\n",
       "      <td>1</td>\n",
       "    </tr>\n",
       "  </tbody>\n",
       "</table>\n",
       "</div>"
      ],
      "text/plain": [
       "   a  b  c  e  d\n",
       "0  3  1  0  0  0\n",
       "1  0  1  1  0  1\n",
       "2  0  1  0  1  1"
      ]
     },
     "execution_count": 29,
     "metadata": {},
     "output_type": "execute_result"
    }
   ],
   "source": [
    "(docf,vec) = BOW_vectorizer(docs,CountVectorizer)\n",
    "df = pd.DataFrame(data=docf.toarray(),columns=vec.vocabulary_.keys())\n",
    "df"
   ]
  },
  {
   "cell_type": "code",
   "execution_count": 46,
   "metadata": {},
   "outputs": [
    {
     "name": "stdout",
     "output_type": "stream",
     "text": [
      "a    0.125\n",
      "b    0.375\n",
      "c    0.125\n",
      "e    0.125\n",
      "d    0.250\n",
      "dtype: float64\n",
      "a    0.333333\n",
      "b    1.000000\n",
      "c    0.333333\n",
      "e    0.333333\n",
      "d    0.666667\n",
      "dtype: float64\n"
     ]
    }
   ],
   "source": [
    "def termf(df):\n",
    "    \"\"\" compute term frequency based on count vectorization\"\"\"\n",
    "    N = sum(df.sum())\n",
    "    return df.apply(lambda c: c/N).sum()\n",
    "\n",
    "def docf(df):\n",
    "    \"\"\" compute doc frequency based on count vectorization\"\"\"\n",
    "    tmp = df.copy()\n",
    "    tmp[tmp != 0] = 1\n",
    "    return tmp.apply(lambda c: c.sum()/len(tmp)) \n",
    "\n",
    "print(termf(df))\n",
    "print(docf(df))"
   ]
  }
 ],
 "metadata": {
  "kernelspec": {
   "display_name": "Python 3.9.12 ('base')",
   "language": "python",
   "name": "python3"
  },
  "language_info": {
   "codemirror_mode": {
    "name": "ipython",
    "version": 3
   },
   "file_extension": ".py",
   "mimetype": "text/x-python",
   "name": "python",
   "nbconvert_exporter": "python",
   "pygments_lexer": "ipython3",
   "version": "3.9.12"
  },
  "orig_nbformat": 4,
  "vscode": {
   "interpreter": {
    "hash": "7b8c1420fd4668c3125a30c19ada9a198156baf5bd8e9521b9be91b166ac9fd7"
   }
  }
 },
 "nbformat": 4,
 "nbformat_minor": 2
}

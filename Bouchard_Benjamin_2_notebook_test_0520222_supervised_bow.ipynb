{
 "cells": [
  {
   "cell_type": "markdown",
   "metadata": {},
   "source": [
    "####  Modules import"
   ]
  },
  {
   "cell_type": "code",
   "execution_count": null,
   "metadata": {},
   "outputs": [],
   "source": [
    "# import numpy as np\n",
    "# import pandas as pd\n",
    "# import matplotlib.pyplot as plt\n",
    "# import math\n",
    "# import re\n",
    "# from collections import defaultdict\n",
    "# from html.parser import HTMLParser\n",
    "# from itertools import accumulate,chain,takewhile\n",
    "# import itertools\n",
    "# import warnings\n",
    "# import itertools\n",
    "# from pathlib import Path,PureWindowsPath,PurePosixPath\n",
    "\n",
    "# #wordcloud\n",
    "# import wordcloud\n",
    "\n",
    "# # \n",
    "# from scipy.sparse import csr_matrix\n",
    "\n",
    "# #pygments\n",
    "# from pygments.lexers import guess_lexer\n",
    "# from pygments.util  import ClassNotFound\n",
    "\n",
    "# # sklearn\n",
    "# from sklearn.feature_extraction.text import CountVectorizer,TfidfVectorizer\n",
    "# from sklearn.preprocessing import MultiLabelBinarizer,StandardScaler\n",
    "# from sklearn.model_selection import train_test_split\n",
    "# from sklearn.multiclass import OneVsRestClassifier\n",
    "# from sklearn.linear_model import SGDClassifier\n",
    "# from sklearn.pipeline import Pipeline\n",
    "# from sklearn.metrics import jaccard_score,confusion_matrix\n",
    "\n",
    "\n",
    "# #gensim\n",
    "# from gensim.models.ldamodel import LdaModel\n",
    "# from gensim.corpora import Dictionary\n",
    "\n",
    "# #vis\n",
    "# import pyLDAvis\n",
    "# import pyLDAvis.gensim_models as gensimvis\n",
    "\n",
    "# #nltk\n",
    "# import nltk\n",
    "\n",
    "# #spacy\n",
    "# import spacy\n",
    "\n",
    "# #bitarray\n",
    "# # from  bitarray import bitarray\n",
    "# # from  bitarray.util import ba2int\n",
    "\n",
    "# #joblib\n",
    "# import joblib\n",
    "\n",
    "# #local\n",
    "# from Bouchard_Benjamin_1_notebook_exploration_0520222 import *\n",
    "# import vectorizer as vectz\n",
    "# import lda as ldam\n",
    "\n",
    "# # from importlib import reload\n",
    "# # reload(vectz)\n",
    "# warnings.warn('User provided device_type of \\'cuda\\', but CUDA is not available. Disabling')"
   ]
  },
  {
   "cell_type": "code",
   "execution_count": 2,
   "metadata": {},
   "outputs": [],
   "source": [
    "import itertools\n",
    "\n",
    "from sklearn.feature_extraction.text import CountVectorizer,TfidfVectorizer\n",
    "from sklearn.preprocessing import StandardScaler\n",
    "from sklearn.linear_model import SGDClassifier\n",
    "from sklearn.pipeline import Pipeline\n",
    "\n",
    "from src import common\n",
    "from src  import classify\n",
    "from src import io_file\n",
    "from src import tools"
   ]
  },
  {
   "cell_type": "markdown",
   "metadata": {},
   "source": [
    "#### Loading data"
   ]
  },
  {
   "cell_type": "code",
   "execution_count": null,
   "metadata": {},
   "outputs": [
    {
     "data": {
      "text/html": [
       "<div>\n",
       "<style scoped>\n",
       "    .dataframe tbody tr th:only-of-type {\n",
       "        vertical-align: middle;\n",
       "    }\n",
       "\n",
       "    .dataframe tbody tr th {\n",
       "        vertical-align: top;\n",
       "    }\n",
       "\n",
       "    .dataframe thead th {\n",
       "        text-align: right;\n",
       "    }\n",
       "</style>\n",
       "<table border=\"1\" class=\"dataframe\">\n",
       "  <thead>\n",
       "    <tr style=\"text-align: right;\">\n",
       "      <th></th>\n",
       "      <th>Title</th>\n",
       "      <th>Body</th>\n",
       "      <th>Tags</th>\n",
       "      <th>Id</th>\n",
       "      <th>Score</th>\n",
       "      <th>ViewCount</th>\n",
       "      <th>FavoriteCount</th>\n",
       "      <th>AnswerCount</th>\n",
       "    </tr>\n",
       "  </thead>\n",
       "  <tbody>\n",
       "    <tr>\n",
       "      <th>0</th>\n",
       "      <td>SQL Server 2008 Full Text Search (FTS) versus ...</td>\n",
       "      <td>&lt;p&gt;I know there have been questions in the pas...</td>\n",
       "      <td>&lt;sql-server&gt;&lt;sql-server-2008&gt;&lt;full-text-search...</td>\n",
       "      <td>499247</td>\n",
       "      <td>40</td>\n",
       "      <td>18582</td>\n",
       "      <td>26</td>\n",
       "      <td>5</td>\n",
       "    </tr>\n",
       "    <tr>\n",
       "      <th>1</th>\n",
       "      <td>XML Serialization and Inherited Types</td>\n",
       "      <td>&lt;p&gt;Following on from my &lt;a href=\"https://stack...</td>\n",
       "      <td>&lt;c#&gt;&lt;xml&gt;&lt;inheritance&gt;&lt;serialization&gt;&lt;xml-seri...</td>\n",
       "      <td>20084</td>\n",
       "      <td>86</td>\n",
       "      <td>56816</td>\n",
       "      <td>42</td>\n",
       "      <td>7</td>\n",
       "    </tr>\n",
       "    <tr>\n",
       "      <th>2</th>\n",
       "      <td>MyISAM versus InnoDB</td>\n",
       "      <td>&lt;p&gt;I'm working on a projects which involves a ...</td>\n",
       "      <td>&lt;mysql&gt;&lt;database&gt;&lt;performance&gt;&lt;innodb&gt;&lt;myisam&gt;</td>\n",
       "      <td>20148</td>\n",
       "      <td>887</td>\n",
       "      <td>301985</td>\n",
       "      <td>390</td>\n",
       "      <td>25</td>\n",
       "    </tr>\n",
       "    <tr>\n",
       "      <th>3</th>\n",
       "      <td>Recommended SQL database design for tags or ta...</td>\n",
       "      <td>&lt;p&gt;I've heard of a few ways to implement taggi...</td>\n",
       "      <td>&lt;sql&gt;&lt;database-design&gt;&lt;tags&gt;&lt;data-modeling&gt;&lt;ta...</td>\n",
       "      <td>20856</td>\n",
       "      <td>325</td>\n",
       "      <td>118552</td>\n",
       "      <td>307</td>\n",
       "      <td>6</td>\n",
       "    </tr>\n",
       "    <tr>\n",
       "      <th>4</th>\n",
       "      <td>Specifying a mySQL ENUM in a Django model</td>\n",
       "      <td>&lt;p&gt;How do I go about specifying and using an E...</td>\n",
       "      <td>&lt;python&gt;&lt;mysql&gt;&lt;django&gt;&lt;django-models&gt;&lt;enums&gt;</td>\n",
       "      <td>21454</td>\n",
       "      <td>99</td>\n",
       "      <td>61572</td>\n",
       "      <td>21</td>\n",
       "      <td>9</td>\n",
       "    </tr>\n",
       "  </tbody>\n",
       "</table>\n",
       "</div>"
      ],
      "text/plain": [
       "                                               Title  \\\n",
       "0  SQL Server 2008 Full Text Search (FTS) versus ...   \n",
       "1              XML Serialization and Inherited Types   \n",
       "2                               MyISAM versus InnoDB   \n",
       "3  Recommended SQL database design for tags or ta...   \n",
       "4          Specifying a mySQL ENUM in a Django model   \n",
       "\n",
       "                                                Body  \\\n",
       "0  <p>I know there have been questions in the pas...   \n",
       "1  <p>Following on from my <a href=\"https://stack...   \n",
       "2  <p>I'm working on a projects which involves a ...   \n",
       "3  <p>I've heard of a few ways to implement taggi...   \n",
       "4  <p>How do I go about specifying and using an E...   \n",
       "\n",
       "                                                Tags      Id  Score  \\\n",
       "0  <sql-server><sql-server-2008><full-text-search...  499247     40   \n",
       "1  <c#><xml><inheritance><serialization><xml-seri...   20084     86   \n",
       "2     <mysql><database><performance><innodb><myisam>   20148    887   \n",
       "3  <sql><database-design><tags><data-modeling><ta...   20856    325   \n",
       "4      <python><mysql><django><django-models><enums>   21454     99   \n",
       "\n",
       "   ViewCount  FavoriteCount  AnswerCount  \n",
       "0      18582             26            5  \n",
       "1      56816             42            7  \n",
       "2     301985            390           25  \n",
       "3     118552            307            6  \n",
       "4      61572             21            9  "
      ]
     },
     "metadata": {},
     "output_type": "display_data"
    }
   ],
   "source": [
    "data = io_file.load_input()\n",
    "one_doc = 1/len(data)\n",
    "data.head()"
   ]
  },
  {
   "cell_type": "markdown",
   "metadata": {},
   "source": [
    "#### Run supervised classification"
   ]
  },
  {
   "cell_type": "markdown",
   "metadata": {},
   "source": [
    "##### config0"
   ]
  },
  {
   "cell_type": "code",
   "execution_count": null,
   "metadata": {},
   "outputs": [],
   "source": [
    "config0 = {\n",
    "    'pipe':Pipeline( \n",
    "                steps=[\n",
    "                    ('scaler', StandardScaler()),\n",
    "                    ('classifier' , SGDClassifier(fit_intercept=False,n_jobs=-1,random_state=42))\n",
    "                ]\n",
    "            ),\n",
    "    'pipe_params':{'classifier__loss':['squared_error','hinge'],'classifier__max_iter':[5000]},\n",
    "    'params':{\n",
    "        'body_tokens':['body-tokens'],\n",
    "        'title_tokens':['title-tokens'], \n",
    "        'Y_tokens':['ntags'],\n",
    "        'nb_tags':[50,100], \n",
    "        'body_min_df':[164*one_doc], \n",
    "        'title_min_df':[58*one_doc], \n",
    "        'body_max_df':[1492*one_doc], \n",
    "        'title_max_df':[1.0],\n",
    "        'vect':[CountVectorizer,TfidfVectorizer]\n",
    "    }\n",
    "}"
   ]
  },
  {
   "cell_type": "code",
   "execution_count": null,
   "metadata": {},
   "outputs": [],
   "source": [
    "tools.run_config(data,config0)"
   ]
  },
  {
   "cell_type": "markdown",
   "metadata": {},
   "source": [
    "##### config1"
   ]
  },
  {
   "cell_type": "code",
   "execution_count": null,
   "metadata": {},
   "outputs": [],
   "source": [
    "config1 = {\n",
    "    'pipe':Pipeline( \n",
    "                steps=[\n",
    "                    ('scaler', StandardScaler()),\n",
    "                    ('classifier' , SGDClassifier(fit_intercept=False,n_jobs=-1,random_state=42))\n",
    "                ]\n",
    "            ),\n",
    "    'pipe_params':{'classifier__loss':['squared_error','hinge'],'classifier__max_iter':[5000]},\n",
    "    'params':{\n",
    "        'body_tokens':['body-tokens'],\n",
    "        'title_tokens':['title-tokens'], \n",
    "        'Y_tokens':['ntags'],\n",
    "        'nb_tags':[50,100], \n",
    "        'body_min_df':[482*one_doc], \n",
    "        'title_min_df':[206*one_doc], \n",
    "        'body_max_df':[1492*one_doc], \n",
    "        'title_max_df':[1.0],\n",
    "        'vect':[CountVectorizer,TfidfVectorizer]\n",
    "    }\n",
    "}"
   ]
  },
  {
   "cell_type": "code",
   "execution_count": null,
   "metadata": {},
   "outputs": [],
   "source": [
    "tools.run_config(data,config1)"
   ]
  },
  {
   "cell_type": "markdown",
   "metadata": {},
   "source": [
    "##### config2"
   ]
  },
  {
   "cell_type": "code",
   "execution_count": null,
   "metadata": {},
   "outputs": [],
   "source": [
    "config2 = {\n",
    "    'pipe':Pipeline( \n",
    "                steps=[\n",
    "                    ('scaler', StandardScaler()),\n",
    "                    ('classifier' , SGDClassifier(fit_intercept=False,n_jobs=-1,random_state=42))\n",
    "                ]\n",
    "            ),\n",
    "    'pipe_params':{'classifier__loss':['squared_error','hinge'],'classifier__max_iter':[5000]},\n",
    "    'params':{\n",
    "        'body_tokens':['body-tokens-wov'],\n",
    "        'title_tokens':['title-tokens'], \n",
    "        'Y_tokens':['ntags'],\n",
    "        'nb_tags':[50,100], \n",
    "        'body_min_df':[105*one_doc], \n",
    "        'title_min_df':[58*one_doc], \n",
    "        'body_max_df':[1.0], \n",
    "        'title_max_df':[1.0],\n",
    "        'vect':[CountVectorizer,TfidfVectorizer]\n",
    "    }\n",
    "}"
   ]
  },
  {
   "cell_type": "code",
   "execution_count": null,
   "metadata": {},
   "outputs": [],
   "source": [
    "tools.run_config(data,config2)"
   ]
  },
  {
   "cell_type": "markdown",
   "metadata": {},
   "source": [
    "##### config3"
   ]
  },
  {
   "cell_type": "code",
   "execution_count": null,
   "metadata": {},
   "outputs": [],
   "source": [
    "config3 = {\n",
    "    'pipe':Pipeline( \n",
    "                steps=[\n",
    "                    ('classifier' , SGDClassifier(fit_intercept=False,n_jobs=-1,random_state=42))\n",
    "                ]\n",
    "            ),\n",
    "    'pipe_params':{'classifier__loss':['squared_error','hinge'],'classifier__max_iter':[2000]},\n",
    "    'params':{\n",
    "        'body_tokens':['body-tokens-wov'],\n",
    "        'title_tokens':['title-tokens'], \n",
    "        'Y_tokens':['ntags'],\n",
    "        'nb_tags':[50,100], \n",
    "        'body_min_df':[105*one_doc], \n",
    "        'title_min_df':[58*one_doc], \n",
    "        'body_max_df':[1.0], \n",
    "        'title_max_df':[1.0],\n",
    "        'vect':[TfidfVectorizer]\n",
    "    }\n",
    "}"
   ]
  },
  {
   "cell_type": "code",
   "execution_count": null,
   "metadata": {},
   "outputs": [],
   "source": [
    "tools.run_config(data,config3)"
   ]
  }
 ],
 "metadata": {
  "interpreter": {
   "hash": "7b8c1420fd4668c3125a30c19ada9a198156baf5bd8e9521b9be91b166ac9fd7"
  },
  "kernelspec": {
   "display_name": "Python 3.9.12 ('base')",
   "language": "python",
   "name": "python3"
  },
  "language_info": {
   "codemirror_mode": {
    "name": "ipython",
    "version": 3
   },
   "file_extension": ".py",
   "mimetype": "text/x-python",
   "name": "python",
   "nbconvert_exporter": "python",
   "pygments_lexer": "ipython3",
   "version": "3.9.12"
  },
  "orig_nbformat": 4
 },
 "nbformat": 4,
 "nbformat_minor": 2
}
